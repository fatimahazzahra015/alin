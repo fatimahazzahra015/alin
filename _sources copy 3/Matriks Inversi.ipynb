{
 "cells": [
  {
   "cell_type": "markdown",
   "metadata": {},
   "source": [
    "# **MATRIK INVERSI**\n",
    "\n",
    "### Pengertian :\n",
    "Invers matriks adalah matriks yang, ketika dikalikan dengan matriks asalnya, menghasilkan matriks identitas. Matriks identitas adalah matriks persegi yang elemen-elemennya memiliki nilai 1 di diagonal utamanya dan 0 di tempat lainnya. Dalam simbol matematika, invers dari sebuah matriks A biasanya dilambangkan dengan A^-1.\n",
    "\n",
    "Contoh : jika A adalah matriks asal, maka A × A^-1 = A^-1 × A = I, di mana I adalah matriks identitas. Invers matriks digunakan dalam berbagai bidang matematika dan ilmu terapan, seperti sistem persamaan linear, transformasi linear, dan pemrosesan sinyal.\n",
    "\n",
    "### Sifat-sifat Matriks invers :\n",
    "1. Hanya dimiliki oleh matriks persegi karna memiliki kolom dan baris yanng sama.\n",
    "2. Hanya ada matriks non-singular. Determinannya tidak sama dengan 0.\n",
    "3. Unik : Setiap matriks hanya memiliki satu matriks invers\n",
    "4. Invers dari invers : Jika Z memiliki invers, maka inversnya adalah matriks Z itu sendiri. \n",
    "\\begin{align*}(Z^-1)^-1=Z\\end{align*}\n",
    "5. Invers dari hasil kali : Jika Y dan Z adalah matriks yang memiliki invers, maka hasil kali AB juga memiliki invers, dan invernya adalah hasil kali invers secara terbalik. \n",
    "\\begin{align*}(YZ)^-1=(Z^-1)Y^-1\\end{align*}\n",
    "6. Invers dari tranpose : jika Z merupakan matriks persegi yang memiliki invers dari tranposenya adalah tranpose dari inversnya. \n",
    "\\begin{align*}(Z^T)^-1=(Z^-1)^T\\end{align*}\n",
    "7. Invers dari matriks identitas : Invers dari matriks identitas I adalah I itu sendiri\n"
   ]
  },
  {
   "cell_type": "code",
   "execution_count": 2,
   "metadata": {},
   "outputs": [],
   "source": [
    "import numpy as np\n",
    "\n",
    "def RowSwap(A,k,l):\n",
    "# =============================================================================\n",
    "#     A is a NumPy array.  RowSwap will return duplicate array with rows\n",
    "#     k and l swapped.\n",
    "# =============================================================================\n",
    "    m = A.shape[0]  # m is number of rows in A\n",
    "    n = A.shape[1]  # n is number of columns in A\n",
    "\n",
    "    B = np.copy(A).astype('float64')\n",
    "\n",
    "    for j in range(n):\n",
    "        temp = B[k][j]\n",
    "        B[k][j] = B[l][j]\n",
    "        B[l][j] = temp\n",
    "\n",
    "    return B\n",
    "\n",
    "def RowScale(A,k,scale):\n",
    "# =============================================================================\n",
    "#     A is a NumPy array.  RowScale will return duplicate array with the\n",
    "#     entries of row k multiplied by scale.\n",
    "# =============================================================================\n",
    "    m = A.shape[0]  # m is number of rows in A\n",
    "    n = A.shape[1]  # n is number of columns in A\n",
    "\n",
    "    B = np.copy(A).astype('float64')\n",
    "\n",
    "    for j in range(n):\n",
    "        B[k][j] *= scale\n",
    "\n",
    "    return B\n",
    "\n",
    "def RowAdd(A,k,l,scale):\n",
    "# =============================================================================\n",
    "#     A is a numpy array.  RowAdd will return duplicate array with row\n",
    "#     l modifed.  The new values will be the old values of row l added to\n",
    "#     the values of row k, multiplied by scale.\n",
    "# =============================================================================\n",
    "    m = A.shape[0]  # m is number of rows in A\n",
    "    n = A.shape[1]  # n is number of columns in A\n",
    "\n",
    "    B = np.copy(A).astype('float64')\n",
    "\n",
    "    for j in range(n):\n",
    "        B[l][j] += B[k][j]*scale\n",
    "\n",
    "    return B"
   ]
  },
  {
   "cell_type": "code",
   "execution_count": 19,
   "metadata": {},
   "outputs": [
    {
     "name": "stdout",
     "output_type": "stream",
     "text": [
      "[[4 0 0 0 1 0 0 0]\n",
      " [0 0 2 0 0 1 0 0]\n",
      " [0 1 2 0 0 0 1 0]\n",
      " [1 0 0 1 0 0 0 1]]\n"
     ]
    }
   ],
   "source": [
    "# Contoh 1 :\n",
    "a = np.array([[4,0,0,0,1,0,0,0],[0,0,2,0,0,1,0,0],[0,1,2,0,0,0,1,0],[1,0,0,1,0,0,0,1]])\n",
    "print(a)"
   ]
  },
  {
   "cell_type": "code",
   "execution_count": 20,
   "metadata": {},
   "outputs": [
    {
     "name": "stdout",
     "output_type": "stream",
     "text": [
      "[[1.   0.   0.   0.   0.25 0.   0.   0.  ]\n",
      " [0.   0.   2.   0.   0.   1.   0.   0.  ]\n",
      " [0.   1.   2.   0.   0.   0.   1.   0.  ]\n",
      " [1.   0.   0.   1.   0.   0.   0.   1.  ]]\n"
     ]
    }
   ],
   "source": [
    "# Mengalikan baris 0 dengan 1/4\n",
    "b = RowScale(a, 0, 1/4)\n",
    "print(b)"
   ]
  },
  {
   "cell_type": "code",
   "execution_count": 23,
   "metadata": {},
   "outputs": [
    {
     "name": "stdout",
     "output_type": "stream",
     "text": [
      "[[1.   0.   0.   0.   0.25 0.   0.   0.  ]\n",
      " [0.   1.   2.   0.   0.   0.   1.   0.  ]\n",
      " [0.   0.   2.   0.   0.   1.   0.   0.  ]\n",
      " [1.   0.   0.   1.   0.   0.   0.   1.  ]]\n"
     ]
    }
   ],
   "source": [
    "#Menukar baris ke 1 dan ke 2\n",
    "c = RowSwap(b, 1, 2)\n",
    "print(c)"
   ]
  },
  {
   "cell_type": "code",
   "execution_count": 25,
   "metadata": {},
   "outputs": [
    {
     "name": "stdout",
     "output_type": "stream",
     "text": [
      "[[ 1.    0.    0.    0.    0.25  0.    0.    0.  ]\n",
      " [ 0.    1.    0.    0.    0.   -1.    1.    0.  ]\n",
      " [ 0.    0.    2.    0.    0.    1.    0.    0.  ]\n",
      " [ 1.    0.    0.    1.    0.    0.    0.    1.  ]]\n"
     ]
    }
   ],
   "source": [
    "# Menambah baris 1 dengan baris 2 yang sudah dikalikan dengan -1\n",
    "d = RowAdd(c, 2, 1, -1)\n",
    "print(d)"
   ]
  },
  {
   "cell_type": "code",
   "execution_count": 26,
   "metadata": {},
   "outputs": [
    {
     "name": "stdout",
     "output_type": "stream",
     "text": [
      "[[ 1.    0.    0.    0.    0.25  0.    0.    0.  ]\n",
      " [ 0.    1.    0.    0.    0.   -1.    1.    0.  ]\n",
      " [ 0.    0.    1.    0.    0.    0.5   0.    0.  ]\n",
      " [ 1.    0.    0.    1.    0.    0.    0.    1.  ]]\n"
     ]
    }
   ],
   "source": [
    "# Mengalikan baris 2 dengan 1/2\n",
    "f = RowScale(d, 2, 1/2)\n",
    "print(f)"
   ]
  },
  {
   "cell_type": "code",
   "execution_count": 27,
   "metadata": {},
   "outputs": [
    {
     "name": "stdout",
     "output_type": "stream",
     "text": [
      "[[ 1.    0.    0.    0.    0.25  0.    0.    0.  ]\n",
      " [ 0.    1.    0.    0.    0.   -1.    1.    0.  ]\n",
      " [ 0.    0.    1.    0.    0.    0.5   0.    0.  ]\n",
      " [ 0.    0.    0.    1.   -0.25  0.    0.    1.  ]]\n"
     ]
    }
   ],
   "source": [
    "# Menambah baris ke 3 dengan baris ke 0 yang sudah dikalikan dengan -1\n",
    "g = RowAdd(f, 0, 3, -1)\n",
    "print(g)"
   ]
  },
  {
   "cell_type": "code",
   "execution_count": 33,
   "metadata": {},
   "outputs": [
    {
     "name": "stdout",
     "output_type": "stream",
     "text": [
      "[[1.]\n",
      " [1.]\n",
      " [1.]\n",
      " [1.]]\n"
     ]
    }
   ],
   "source": [
    "# Mencari x1, x2, x3, x4\n",
    "h = np.array([[0.25,0,0,0], [0,-1,1,0], [0,0.5,0,0], [-0.25,0,0,1]])\n",
    "j = np.array([[4], [2], [3], [2]])\n",
    "print(h@j)"
   ]
  },
  {
   "cell_type": "code",
   "execution_count": 34,
   "metadata": {},
   "outputs": [
    {
     "name": "stdout",
     "output_type": "stream",
     "text": [
      "[[1. 0. 0. 0.]\n",
      " [0. 1. 0. 0.]\n",
      " [0. 0. 1. 0.]\n",
      " [0. 0. 0. 1.]]\n"
     ]
    }
   ],
   "source": [
    "# pembuktian\n",
    "h = np.array([[0.25,0,0,0], [0,-1,1,0], [0,0.5,0,0], [-0.25,0,0,1]])\n",
    "a = np.array([[4,0,0,0],[0,0,2,0],[0,1,2,0],[1,0,0,1]])\n",
    "print(a@h)"
   ]
  },
  {
   "cell_type": "code",
   "execution_count": 155,
   "metadata": {},
   "outputs": [
    {
     "name": "stdout",
     "output_type": "stream",
     "text": [
      "[[ 0  0  0  1  1  0  0  0]\n",
      " [ 4  2  0 -4  0  1  0  0]\n",
      " [-2  0  1  2  0  0  1  0]\n",
      " [ 1  0  0  1  0  0  0  1]]\n"
     ]
    }
   ],
   "source": [
    "# Contoh 2 :\n",
    "a2 = np.array([[0,0,0,1,1,0,0,0], [4,2,0,-4,0,1,0,0], [-2,0,1,2,0,0,1,0], [1,0,0,1,0,0,0,1]])\n",
    "print(a2)"
   ]
  },
  {
   "cell_type": "code",
   "execution_count": 164,
   "metadata": {},
   "outputs": [
    {
     "name": "stdout",
     "output_type": "stream",
     "text": [
      "[[ 1.  0.  0.  1.  0.  0.  0.  1.]\n",
      " [ 4.  2.  0. -4.  0.  1.  0.  0.]\n",
      " [-2.  0.  1.  2.  0.  0.  1.  0.]\n",
      " [ 0.  0.  0.  1.  1.  0.  0.  0.]]\n"
     ]
    }
   ],
   "source": [
    "# Menukar baris ke 0 dengan baris ke 3\n",
    "b2 = RowSwap(a2, 0, 3)\n",
    "print(b2)"
   ]
  },
  {
   "cell_type": "code",
   "execution_count": 165,
   "metadata": {},
   "outputs": [
    {
     "name": "stdout",
     "output_type": "stream",
     "text": [
      "[[ 1.  0.  0.  1.  0.  0.  0.  1.]\n",
      " [ 0.  2.  0. -8.  0.  1.  0. -4.]\n",
      " [-2.  0.  1.  2.  0.  0.  1.  0.]\n",
      " [ 0.  0.  0.  1.  1.  0.  0.  0.]]\n"
     ]
    }
   ],
   "source": [
    "# Menambah baris 1 dengan baris 0 yang telah dikalikan dengan -4\n",
    "c2 = RowAdd(b2, 0, 1, -4)\n",
    "print(c2)"
   ]
  },
  {
   "cell_type": "code",
   "execution_count": 166,
   "metadata": {},
   "outputs": [
    {
     "name": "stdout",
     "output_type": "stream",
     "text": [
      "[[ 1.  0.  0.  1.  0.  0.  0.  1.]\n",
      " [ 0.  2.  0. -8.  0.  1.  0. -4.]\n",
      " [ 0.  0.  1.  4.  0.  0.  1.  2.]\n",
      " [ 0.  0.  0.  1.  1.  0.  0.  0.]]\n"
     ]
    }
   ],
   "source": [
    "# Menambah baris 2 dengan baris 0 yang telah dikalikan dengan 2\n",
    "d2 = RowAdd(c2, 0, 2, 2)\n",
    "print(d2)"
   ]
  },
  {
   "cell_type": "code",
   "execution_count": 167,
   "metadata": {},
   "outputs": [
    {
     "name": "stdout",
     "output_type": "stream",
     "text": [
      "[[ 1.   0.   0.   1.   0.   0.   0.   1. ]\n",
      " [ 0.   1.   0.  -4.   0.   0.5  0.  -2. ]\n",
      " [ 0.   0.   1.   4.   0.   0.   1.   2. ]\n",
      " [ 0.   0.   0.   1.   1.   0.   0.   0. ]]\n"
     ]
    }
   ],
   "source": [
    "# Mengalikan baris 1 dengan 1/2\n",
    "e2 = RowScale(d2, 1, 1/2)\n",
    "print(e2)"
   ]
  },
  {
   "cell_type": "code",
   "execution_count": 168,
   "metadata": {},
   "outputs": [
    {
     "name": "stdout",
     "output_type": "stream",
     "text": [
      "[[ 1.   0.   0.   0.  -1.   0.   0.   1. ]\n",
      " [ 0.   1.   0.  -4.   0.   0.5  0.  -2. ]\n",
      " [ 0.   0.   1.   4.   0.   0.   1.   2. ]\n",
      " [ 0.   0.   0.   1.   1.   0.   0.   0. ]]\n"
     ]
    }
   ],
   "source": [
    "# Menambah baris 0 dengan baris 3 yang telah dikalikan dengan -1\n",
    "f2 = RowAdd(e2, 3, 0, -1)\n",
    "print(f2)"
   ]
  },
  {
   "cell_type": "code",
   "execution_count": 169,
   "metadata": {},
   "outputs": [
    {
     "name": "stdout",
     "output_type": "stream",
     "text": [
      "[[ 1.   0.   0.   0.  -1.   0.   0.   1. ]\n",
      " [ 0.   1.   0.   0.   4.   0.5  0.  -2. ]\n",
      " [ 0.   0.   1.   4.   0.   0.   1.   2. ]\n",
      " [ 0.   0.   0.   1.   1.   0.   0.   0. ]]\n"
     ]
    }
   ],
   "source": [
    "# Menambah baris 1 dengan baris 3 yang telah dikalikan dengan 4\n",
    "g2 = RowAdd(f2, 3, 1, 4)\n",
    "print(g2)"
   ]
  },
  {
   "cell_type": "code",
   "execution_count": 170,
   "metadata": {},
   "outputs": [
    {
     "name": "stdout",
     "output_type": "stream",
     "text": [
      "[[ 1.   0.   0.   0.  -1.   0.   0.   1. ]\n",
      " [ 0.   1.   0.   0.   4.   0.5  0.  -2. ]\n",
      " [ 0.   0.   1.   0.  -4.   0.   1.   2. ]\n",
      " [ 0.   0.   0.   1.   1.   0.   0.   0. ]]\n"
     ]
    }
   ],
   "source": [
    "# Menambah baris 2 dengan baris 3 yang telah dikalikan dengan -4\n",
    "h2 = RowAdd(g2, 3, 2, -4)\n",
    "print(h2)"
   ]
  },
  {
   "cell_type": "code",
   "execution_count": 173,
   "metadata": {},
   "outputs": [
    {
     "name": "stdout",
     "output_type": "stream",
     "text": [
      "[[ 2.]\n",
      " [ 1.]\n",
      " [ 5.]\n",
      " [-3.]]\n"
     ]
    }
   ],
   "source": [
    "# Mencari x1, x2, x3, x4\n",
    "h2 = np.array([[-1,0,0,1], [4,0.5,0,-2], [-4,0,1,2], [1,0,0,0]])\n",
    "j = np.array([[-3], [22], [-5], [-1]])\n",
    "print(h2@j)"
   ]
  },
  {
   "cell_type": "code",
   "execution_count": 174,
   "metadata": {},
   "outputs": [
    {
     "name": "stdout",
     "output_type": "stream",
     "text": [
      "[[1. 0. 0. 0.]\n",
      " [0. 1. 0. 0.]\n",
      " [0. 0. 1. 0.]\n",
      " [0. 0. 0. 1.]]\n"
     ]
    }
   ],
   "source": [
    "# Pembuktian\n",
    "h2 = np.array([[0,0,0,1], [4,2,0,-4], [-2,0,1,2], [1,0,0,1]])\n",
    "k = np.array([[-1,0,0,1], [4,0.5,0,-2], [-4,0,1,2], [1,0,0,0]])\n",
    "print(h2@k)"
   ]
  },
  {
   "cell_type": "code",
   "execution_count": 3,
   "metadata": {},
   "outputs": [
    {
     "name": "stdout",
     "output_type": "stream",
     "text": [
      "[[3 2 1 3 1 0 0 0]\n",
      " [0 1 2 3 0 1 0 0]\n",
      " [2 1 1 1 0 0 1 0]\n",
      " [0 2 3 2 0 0 0 1]]\n"
     ]
    }
   ],
   "source": [
    "# Contoh 3 :\n",
    "a3 = np.array([[3,2,1,3,1,0,0,0], [0,1,2,3,0,1,0,0], [2,1,1,1,0,0,1,0], [0,2,3,2,0,0,0,1]])\n",
    "print(a3)"
   ]
  },
  {
   "cell_type": "code",
   "execution_count": 8,
   "metadata": {},
   "outputs": [
    {
     "name": "stdout",
     "output_type": "stream",
     "text": [
      "[[ 1.  1.  0.  2.  1.  0. -1.  0.]\n",
      " [ 0.  1.  2.  3.  0.  1.  0.  0.]\n",
      " [ 2.  1.  1.  1.  0.  0.  1.  0.]\n",
      " [ 0.  2.  3.  2.  0.  0.  0.  1.]]\n"
     ]
    }
   ],
   "source": [
    "b3 = RowAdd(a3, 2, 0, -1)\n",
    "print(b3)"
   ]
  },
  {
   "cell_type": "code",
   "execution_count": 12,
   "metadata": {},
   "outputs": [
    {
     "name": "stdout",
     "output_type": "stream",
     "text": [
      "[[ 1.  1.  0.  2.  1.  0. -1.  0.]\n",
      " [ 0.  1.  2.  3.  0.  1.  0.  0.]\n",
      " [ 0. -1.  1. -3. -2.  0.  3.  0.]\n",
      " [ 0.  2.  3.  2.  0.  0.  0.  1.]]\n"
     ]
    }
   ],
   "source": [
    "c3 = RowAdd(b3, 0, 2, -2)\n",
    "print(c3)"
   ]
  },
  {
   "cell_type": "code",
   "execution_count": 13,
   "metadata": {},
   "outputs": [
    {
     "name": "stdout",
     "output_type": "stream",
     "text": [
      "[[ 1.  0. -2. -1.  1. -1. -1.  0.]\n",
      " [ 0.  1.  2.  3.  0.  1.  0.  0.]\n",
      " [ 0. -1.  1. -3. -2.  0.  3.  0.]\n",
      " [ 0.  2.  3.  2.  0.  0.  0.  1.]]\n"
     ]
    }
   ],
   "source": [
    "d3 = RowAdd(c3, 1, 0, -1)\n",
    "print(d3)"
   ]
  },
  {
   "cell_type": "code",
   "execution_count": 14,
   "metadata": {},
   "outputs": [
    {
     "name": "stdout",
     "output_type": "stream",
     "text": [
      "[[ 1.  0. -2. -1.  1. -1. -1.  0.]\n",
      " [ 0.  1.  2.  3.  0.  1.  0.  0.]\n",
      " [ 0.  0.  3.  0. -2.  1.  3.  0.]\n",
      " [ 0.  2.  3.  2.  0.  0.  0.  1.]]\n"
     ]
    }
   ],
   "source": [
    "e3 = RowAdd(d3, 1, 2, 1)\n",
    "print(e3)"
   ]
  },
  {
   "cell_type": "code",
   "execution_count": 15,
   "metadata": {},
   "outputs": [
    {
     "name": "stdout",
     "output_type": "stream",
     "text": [
      "[[ 1.  0. -2. -1.  1. -1. -1.  0.]\n",
      " [ 0.  1.  2.  3.  0.  1.  0.  0.]\n",
      " [ 0.  0.  3.  0. -2.  1.  3.  0.]\n",
      " [ 0.  0. -1. -4.  0. -2.  0.  1.]]\n"
     ]
    }
   ],
   "source": [
    "f3 = RowAdd(e3, 1, 3, -2)\n",
    "print(f3)"
   ]
  },
  {
   "cell_type": "code",
   "execution_count": 20,
   "metadata": {},
   "outputs": [
    {
     "name": "stdout",
     "output_type": "stream",
     "text": [
      "[[ 1.  0. -2. -1.  1. -1. -1.  0.]\n",
      " [ 0.  1.  2.  3.  0.  1.  0.  0.]\n",
      " [ 0.  0.  1. -8. -2. -3.  3.  2.]\n",
      " [ 0.  0. -1. -4.  0. -2.  0.  1.]]\n"
     ]
    }
   ],
   "source": [
    "g3 = RowAdd(f3, 3, 2, 2)\n",
    "print(g3)"
   ]
  },
  {
   "cell_type": "code",
   "execution_count": 21,
   "metadata": {},
   "outputs": [
    {
     "name": "stdout",
     "output_type": "stream",
     "text": [
      "[[  1.   0.   0. -17.  -3.  -7.   5.   4.]\n",
      " [  0.   1.   2.   3.   0.   1.   0.   0.]\n",
      " [  0.   0.   1.  -8.  -2.  -3.   3.   2.]\n",
      " [  0.   0.  -1.  -4.   0.  -2.   0.   1.]]\n"
     ]
    }
   ],
   "source": [
    "h3 = RowAdd(g3, 2, 0, 2)\n",
    "print(h3)"
   ]
  },
  {
   "cell_type": "code",
   "execution_count": 22,
   "metadata": {},
   "outputs": [
    {
     "name": "stdout",
     "output_type": "stream",
     "text": [
      "[[  1.   0.   0. -17.  -3.  -7.   5.   4.]\n",
      " [  0.   1.   0.  19.   4.   7.  -6.  -4.]\n",
      " [  0.   0.   1.  -8.  -2.  -3.   3.   2.]\n",
      " [  0.   0.  -1.  -4.   0.  -2.   0.   1.]]\n"
     ]
    }
   ],
   "source": [
    "i3 = RowAdd(h3, 2, 1, -2)\n",
    "print(i3)"
   ]
  },
  {
   "cell_type": "code",
   "execution_count": 38,
   "metadata": {},
   "outputs": [
    {
     "name": "stdout",
     "output_type": "stream",
     "text": [
      "[[  1.     0.     0.   -17.    -3.    -7.     5.     4.  ]\n",
      " [  0.     1.     0.    19.     4.     7.    -6.    -4.  ]\n",
      " [  0.     0.     1.    -8.    -2.    -3.     3.     2.  ]\n",
      " [  0.     0.    -0.08  -0.32   0.    -0.16   0.     0.08]]\n"
     ]
    }
   ],
   "source": [
    "j3 = RowScale(i3, 3, 0.08)\n",
    "print(j3)"
   ]
  },
  {
   "cell_type": "code",
   "execution_count": 283,
   "metadata": {},
   "outputs": [
    {
     "name": "stdout",
     "output_type": "stream",
     "text": [
      "[[-1.]\n",
      " [ 3.]\n",
      " [ 2.]\n",
      " [ 1.]]\n"
     ]
    }
   ],
   "source": [
    "# Mencari x1, x2, x3, x4\n",
    "h3 = np.array([[7, 0, -2, 0], [11.5,0.5,-3.5,-0.5], [-3,0,1,0], [-14,0,1,0]])\n",
    "m = np.array([[8], [-11], [14], [3]])\n",
    "print(l3@m)"
   ]
  },
  {
   "cell_type": "code",
   "execution_count": 370,
   "metadata": {},
   "outputs": [
    {
     "name": "stdout",
     "output_type": "stream",
     "text": [
      "[[ 1.  0.  0.  0.]\n",
      " [ 0.  1. -3. -1.]\n",
      " [ 0.  0.  1.  0.]\n",
      " [ 0.  0. -3.  0.]]\n"
     ]
    }
   ],
   "source": [
    "a3 = np.array([[1,0,2,0], [0,2,3,1], [3,0,7,0], [2,0,0,1]])\n",
    "h3 = np.array([[7, 0, -2, 0], [11.5,0.5,-3.5,-0.5], [-3,0,1,0], [-14,0,1,0]])\n",
    "print(a3@h3)"
   ]
  },
  {
   "cell_type": "code",
   "execution_count": 383,
   "metadata": {},
   "outputs": [
    {
     "name": "stdout",
     "output_type": "stream",
     "text": [
      "[[1. 0. 2. 0.]\n",
      " [0. 2. 3. 1.]\n",
      " [3. 0. 7. 0.]\n",
      " [2. 0. 0. 1.]]\n"
     ]
    }
   ],
   "source": [
    "a3 = np.array([[1,0,2,0], [0,2,3,1], [3,0,7,0], [2,0,0,1]])\n",
    "I = np.eye(4)\n",
    "\n",
    "print(a3 @ I)"
   ]
  }
 ],
 "metadata": {
  "kernelspec": {
   "display_name": "Python 3",
   "language": "python",
   "name": "python3"
  },
  "language_info": {
   "codemirror_mode": {
    "name": "ipython",
    "version": 3
   },
   "file_extension": ".py",
   "mimetype": "text/x-python",
   "name": "python",
   "nbconvert_exporter": "python",
   "pygments_lexer": "ipython3",
   "version": "3.10.13"
  }
 },
 "nbformat": 4,
 "nbformat_minor": 2
}
