{
 "cells": [
  {
   "cell_type": "markdown",
   "metadata": {},
   "source": [
    "# **DETERMINAN**"
   ]
  },
  {
   "cell_type": "markdown",
   "metadata": {},
   "source": [
    "adalah ukuran skalar dari sebuah matriks atau selisih antara perkalian elemen-elemen pada diagonal utama dengan perkalian elemen-elemen pada diagonal sekunder. Determinan matriks hanya dapat dicari dengan matriks persegi. Determinan dari matriks A dapat ditulis $det(A)$ atau $|A|$.\n",
    "\n",
    "## **Sifat - Sifat Determinan :**\n",
    "1. Determinan dari matrix identitas adalah 1  \n",
    "contoh :"
   ]
  },
  {
   "cell_type": "code",
   "execution_count": 1,
   "metadata": {},
   "outputs": [
    {
     "name": "stdout",
     "output_type": "stream",
     "text": [
      "[[4 2]\n",
      " [3 1]] \n",
      "\n",
      "[[4 1 3]\n",
      " [6 2 5]\n",
      " [8 4 5]]\n"
     ]
    }
   ],
   "source": [
    "import numpy as np\n",
    "a = np.array([[4,2],[3,1]])\n",
    "b = np.array([[4,1,3],[6,2,5],[8,4,5]])\n",
    "c = np.array([[1,0],[0,1]])\n",
    "d = np.array([[1,0,0],[0,1,0],[0,0,1]])\n",
    "print(a,\"\\n\")\n",
    "print(b)"
   ]
  },
  {
   "cell_type": "code",
   "execution_count": 2,
   "metadata": {},
   "outputs": [
    {
     "data": {
      "text/plain": [
       "array([[-5, -3],\n",
       "       [-4, -2]])"
      ]
     },
     "execution_count": 2,
     "metadata": {},
     "output_type": "execute_result"
    }
   ],
   "source": [
    "# a invers\n",
    "ainv = np.invert (a)\n",
    "ainv"
   ]
  },
  {
   "cell_type": "code",
   "execution_count": 3,
   "metadata": {},
   "outputs": [
    {
     "data": {
      "text/plain": [
       "array([[-5, -2, -4],\n",
       "       [-7, -3, -6],\n",
       "       [-9, -5, -6]])"
      ]
     },
     "execution_count": 3,
     "metadata": {},
     "output_type": "execute_result"
    }
   ],
   "source": [
    "# b invers\n",
    "binv = np.invert(b)\n",
    "binv"
   ]
  },
  {
   "cell_type": "markdown",
   "metadata": {},
   "source": [
    "2. Misalkan a dan b adalah matriks bujur sangakar, maka  \n",
    "det (c) = det (a) * det (b)  \n",
    "det (I) = det (a) * det (a inv)  \n"
   ]
  },
  {
   "cell_type": "code",
   "execution_count": 4,
   "metadata": {},
   "outputs": [
    {
     "name": "stdout",
     "output_type": "stream",
     "text": [
      "Determinan A = -2.0\n"
     ]
    }
   ],
   "source": [
    "# determinan a\n",
    "det_a = np.linalg.det(a)\n",
    "print(f\"Determinan A = {det_a}\")"
   ]
  },
  {
   "cell_type": "code",
   "execution_count": 5,
   "metadata": {},
   "outputs": [
    {
     "data": {
      "text/plain": [
       "-0.5"
      ]
     },
     "execution_count": 5,
     "metadata": {},
     "output_type": "execute_result"
    }
   ],
   "source": [
    "# determinan a invers\n",
    "det_ainv = 1 / det_a\n",
    "det_ainv"
   ]
  },
  {
   "cell_type": "code",
   "execution_count": 6,
   "metadata": {},
   "outputs": [
    {
     "name": "stdout",
     "output_type": "stream",
     "text": [
      "Determinan B = -6.0\n"
     ]
    }
   ],
   "source": [
    "# determinan b\n",
    "det_b = np.linalg.det(b)\n",
    "print(f\"Determinan B = {det_b}\")"
   ]
  },
  {
   "cell_type": "code",
   "execution_count": 7,
   "metadata": {},
   "outputs": [
    {
     "data": {
      "text/plain": [
       "-0.16666666666666666"
      ]
     },
     "execution_count": 7,
     "metadata": {},
     "output_type": "execute_result"
    }
   ],
   "source": [
    "# determinan b invers\n",
    "det_binv = 1 / det_b\n",
    "det_binv"
   ]
  },
  {
   "cell_type": "code",
   "execution_count": 8,
   "metadata": {},
   "outputs": [
    {
     "name": "stdout",
     "output_type": "stream",
     "text": [
      "1.0\n"
     ]
    }
   ],
   "source": [
    "hasil = (det_a * det_ainv) * (det_b *det_binv)\n",
    "print(hasil)"
   ]
  },
  {
   "cell_type": "markdown",
   "metadata": {},
   "source": [
    "3. Merubah baris atau kolom dari matriks maka akan merubah tanda dari determinan"
   ]
  },
  {
   "cell_type": "code",
   "execution_count": 9,
   "metadata": {},
   "outputs": [
    {
     "name": "stdout",
     "output_type": "stream",
     "text": [
      "[[1 4 2]\n",
      " [1 1 1]\n",
      " [3 2 1]] \n",
      "\n",
      "Determinan E = 5\n"
     ]
    }
   ],
   "source": [
    "e = np.array([[1,4,2],[1,1,1],[3,2,1]])\n",
    "print(e, \"\\n\")\n",
    "det_e = round(np.linalg.det(e))\n",
    "print(f\"Determinan E = {det_e}\")"
   ]
  },
  {
   "cell_type": "code",
   "execution_count": 10,
   "metadata": {},
   "outputs": [
    {
     "name": "stdout",
     "output_type": "stream",
     "text": [
      "[[1 1 1]\n",
      " [1 4 2]\n",
      " [3 2 1]] \n",
      "\n",
      "Determinan F = -5\n"
     ]
    }
   ],
   "source": [
    "#merubah baris dari matriks\n",
    "f = np.array([[1,1,1],[1,4,2],[3,2,1]])\n",
    "print(f,\"\\n\")\n",
    "det_f = round(np.linalg.det(f))\n",
    "print(f\"Determinan F = {det_f}\")"
   ]
  },
  {
   "cell_type": "markdown",
   "metadata": {},
   "source": [
    "4. Jika baris/kolom merupakan kelipatan dari baris/kolom yang lain maka determinannya adalah 0"
   ]
  },
  {
   "cell_type": "code",
   "execution_count": 11,
   "metadata": {},
   "outputs": [
    {
     "name": "stdout",
     "output_type": "stream",
     "text": [
      "[[1 4 2]\n",
      " [2 8 4]\n",
      " [3 2 1]] \n",
      "\n",
      "Determinan G = 0\n"
     ]
    }
   ],
   "source": [
    "# baris 2 merupakan kelipatan dari baris 1\n",
    "g = np.array([[1,4,2],[2,8,4],[3,2,1]])\n",
    "print(g, \"\\n\")\n",
    "det_g = round(np.linalg.det(g))\n",
    "print(f\"Determinan G = {det_g}\")"
   ]
  },
  {
   "cell_type": "code",
   "execution_count": 12,
   "metadata": {},
   "outputs": [
    {
     "name": "stdout",
     "output_type": "stream",
     "text": [
      "[[1 4 2]\n",
      " [2 8 3]\n",
      " [1 4 1]] \n",
      "\n",
      "Determinan G = 0\n"
     ]
    }
   ],
   "source": [
    "# kolom 2 merupakan kelipatan dari kolom 1\n",
    "g = np.array([[1,4,2],[2,8,3],[1,4,1]])\n",
    "print(g, \"\\n\")\n",
    "det_g = round(np.linalg.det(g))\n",
    "print(f\"Determinan G = {det_g}\")"
   ]
  },
  {
   "cell_type": "markdown",
   "metadata": {},
   "source": [
    "5. Jika K = Skalar dan Anxn memiliki nxn maka,  \n",
    "det (KA) = K^n * det(A)"
   ]
  },
  {
   "cell_type": "code",
   "execution_count": 13,
   "metadata": {},
   "outputs": [
    {
     "name": "stdout",
     "output_type": "stream",
     "text": [
      "Determinan KA = 40\n"
     ]
    }
   ],
   "source": [
    "det_KA = (2**3) * 5\n",
    "print(f\"Determinan KA = {det_KA}\")"
   ]
  },
  {
   "cell_type": "code",
   "execution_count": 14,
   "metadata": {},
   "outputs": [
    {
     "name": "stdout",
     "output_type": "stream",
     "text": [
      "[[2 8 4]\n",
      " [2 2 2]\n",
      " [6 4 2]] \n",
      "\n",
      "Determinan ke = 40\n"
     ]
    }
   ],
   "source": [
    "# Pembuktian\n",
    "ke = np.array([[2,8,4],[2,2,2],[6,4,2]])\n",
    "print(ke, \"\\n\")\n",
    "det_ke = round(np.linalg.det(ke))\n",
    "print(f\"Determinan ke = {det_ke}\")"
   ]
  },
  {
   "cell_type": "markdown",
   "metadata": {},
   "source": [
    "6. Jika T = Skalar dan  \n",
    "$$\n",
    "\\begin{equation}  B=\n",
    "\\left[ \\begin{array}{cccc} ta&tb&tc\\\\\n",
    "d&e&f\\\\\n",
    "g&h&i \\end{array}\\right]\n",
    "\\end{equation}\n",
    "$$   \n",
    "$$\n",
    "\\begin{equation} A =\n",
    "\\left[ \\begin{array}{cccc} a&b&c\\\\\n",
    "d&e&f\\\\\n",
    "g&h&i \\end{array}\\right]\n",
    "\\end{equation}\n",
    "$$   \n",
    "$det (B) = t * det(A)$"
   ]
  },
  {
   "cell_type": "code",
   "execution_count": 15,
   "metadata": {},
   "outputs": [
    {
     "name": "stdout",
     "output_type": "stream",
     "text": [
      "[[2 8 4]\n",
      " [1 1 1]\n",
      " [3 2 1]] \n",
      "\n",
      "Determinan H = 5\n"
     ]
    }
   ],
   "source": [
    "h = np.array([[2,8,4],[1,1,1],[3,2,1]])\n",
    "print(h, \"\\n\")\n",
    "det_h = round(np.linalg.det(e))\n",
    "print(f\"Determinan H = {det_h}\")"
   ]
  },
  {
   "cell_type": "markdown",
   "metadata": {},
   "source": [
    "## **Matriks Segitiga Atas**\n",
    " adalah matriks bujur sangkar yang semua entri dibawah diagonal utama bernilai nol. Berikut merupakan contoh bentuk matriks segitiga atas : \n",
    "$$\n",
    "\\begin{equation} A =\n",
    "\\left[ \\begin{array}{cccc} d1& . & .\\\\\n",
    "0&d2&.\\\\\n",
    "0&0&dn \\end{array}\\right]\n",
    "\\end{equation}\n",
    "$$  \n",
    "$det (A) = d1, d2, ... ,dn$  \n",
    "\n",
    "Determinan dari matriks segitiga atas adalah hasil perkalian dari setiap elemen diagonal"
   ]
  },
  {
   "cell_type": "code",
   "execution_count": 16,
   "metadata": {},
   "outputs": [
    {
     "name": "stdout",
     "output_type": "stream",
     "text": [
      "[[1 4 2]\n",
      " [0 4 1]\n",
      " [0 0 1]] \n",
      "\n",
      "Determinan a = 4\n"
     ]
    }
   ],
   "source": [
    "a = np.array([[1,4,2],[0,4,1],[0,0,1]])\n",
    "print(a, \"\\n\")\n",
    "det_a = round(np.linalg.det(a))\n",
    "print(f\"Determinan a = {det_a}\")"
   ]
  },
  {
   "cell_type": "markdown",
   "metadata": {},
   "source": [
    "7. Melakukan operasi baris elementer terhadap suatu baris tidak akan merubah determinan dan inversnya"
   ]
  },
  {
   "cell_type": "code",
   "execution_count": 17,
   "metadata": {},
   "outputs": [
    {
     "name": "stdout",
     "output_type": "stream",
     "text": [
      "[[ 1  4  2]\n",
      " [ 0 -3 -1]\n",
      " [ 3  2  1]] \n",
      "\n",
      "Determinan a = 5\n"
     ]
    }
   ],
   "source": [
    "a = np.array([[1,4,2],[0,-3,-1],[3,2,1]])\n",
    "print(a, \"\\n\")\n",
    "det_a = round(np.linalg.det(a))\n",
    "print(f\"Determinan a = {det_a}\")"
   ]
  },
  {
   "cell_type": "markdown",
   "metadata": {},
   "source": [
    "8. det (A) = det (A Tranpuse)"
   ]
  },
  {
   "cell_type": "code",
   "execution_count": 18,
   "metadata": {},
   "outputs": [
    {
     "name": "stdout",
     "output_type": "stream",
     "text": [
      "[[1 4 2]\n",
      " [1 1 1]\n",
      " [3 2 1]] \n",
      "\n",
      "Determinan e = 5\n"
     ]
    }
   ],
   "source": [
    "e = np.array([[1,4,2],[1,1,1],[3,2,1]])\n",
    "print(e, \"\\n\")\n",
    "det_e = round(np.linalg.det(e))\n",
    "print(f\"Determinan e = {det_e}\")"
   ]
  },
  {
   "cell_type": "code",
   "execution_count": 19,
   "metadata": {},
   "outputs": [
    {
     "name": "stdout",
     "output_type": "stream",
     "text": [
      "[[1 1 3]\n",
      " [4 1 2]\n",
      " [2 1 1]] \n",
      "\n",
      "Determinan e tranpose = 5\n"
     ]
    }
   ],
   "source": [
    "# determinan e tranpose\n",
    "e_tran = e.transpose()\n",
    "print(e_tran,\"\\n\")\n",
    "det_etran = round(np.linalg.det(e_tran))\n",
    "print(f\"Determinan e tranpose = {det_etran}\")"
   ]
  },
  {
   "cell_type": "markdown",
   "metadata": {},
   "source": [
    "## **Ekspansi Kofaktor**"
   ]
  },
  {
   "cell_type": "markdown",
   "metadata": {},
   "source": [
    "adalah salah satu metode yang digunakan untuk menghitung determinan dari sebuah matriks. Berikut adalah langkah-langkah umum untuk menghitung determinan menggunakan ekspansi kofaktor:\n",
    "\n",
    "1. Pilih baris atau kolom tertentu dari matriks yang akan digunakan untuk menghitung determinan. Misalnya, pilih baris pertama atau kolom pertama.\n",
    "\n",
    "2. Untuk setiap elemen dalam baris atau kolom yang dipilih, hitung kofaktornya. Kofaktor dari elemen \\( $a_{ij}$ \\) adalah \\( $(-1)^{i+j}$ \\) dikalikan dengan determinan dari minor \\( $M_{ij}$ \\), di mana minor \\( $M_{ij}$ \\) adalah matriks yang dihasilkan dari matriks asli dengan menghapus baris ke-i dan kolom ke-j.\n",
    "\n",
    "3. Kalikan setiap kofaktor dengan elemen yang bersangkutan, kemudian tambahkan semua hasil perkalian tersebut. Ini akan memberikan nilai determinan dari matriks.\n"
   ]
  },
  {
   "cell_type": "markdown",
   "metadata": {},
   "source": [
    "Rumus ekspansi kofaktor :   \n",
    "\n",
    "$\\text{det}(A) = a_{k \\times 1} \\times C_{k \\times 1} + a_{k \\times 2} \\times C_{k \\times 2} + a_{k \\times 3} \\times C_{k \\times 3}$"
   ]
  },
  {
   "cell_type": "code",
   "execution_count": 20,
   "metadata": {},
   "outputs": [
    {
     "name": "stdout",
     "output_type": "stream",
     "text": [
      "[[4 3 2 1]\n",
      " [1 1 1 1]\n",
      " [2 3 1 2]\n",
      " [4 4 2 1]] \n",
      "\n",
      "Determinan e = 3\n"
     ]
    }
   ],
   "source": [
    "e = np.array([[4,3,2,1],[1,1,1,1],[2,3,1,2],[4,4,2,1]])\n",
    "print(e, \"\\n\")\n",
    "det_e = round(np.linalg.det(e))\n",
    "print(f\"Determinan e = {det_e}\")"
   ]
  },
  {
   "cell_type": "code",
   "execution_count": 21,
   "metadata": {},
   "outputs": [
    {
     "name": "stdout",
     "output_type": "stream",
     "text": [
      "[[1 0 0 0]\n",
      " [0 1 0 1]\n",
      " [1 0 0 0]\n",
      " [0 1 2 1]] \n",
      "\n",
      "Determinan e = 0\n"
     ]
    }
   ],
   "source": [
    "e = np.array([[1,0,0,0],[0,1,0,1],[1,0,0,0],[0,1,2,1]])\n",
    "print(e, \"\\n\")\n",
    "det_e = round(np.linalg.det(e))\n",
    "print(f\"Determinan e = {det_e}\")"
   ]
  },
  {
   "cell_type": "markdown",
   "metadata": {},
   "source": [
    "#### Berikut ini merupakan matriks 4 X 4 yang akan dicari determinannya menggunakan metode langsung dan metode manual"
   ]
  },
  {
   "cell_type": "code",
   "execution_count": 22,
   "metadata": {},
   "outputs": [
    {
     "name": "stdout",
     "output_type": "stream",
     "text": [
      "[[ 1  0  0  3]\n",
      " [ 2  7  0  0]\n",
      " [ 0  6  3  0]\n",
      " [ 7  3  1 -5]] \n",
      "\n",
      "Determinan e = -528\n"
     ]
    }
   ],
   "source": [
    "e = np.array([[1,0,0,3],[2,7,0,0],[0,6,3,0],[7,3,1,-5]])\n",
    "print(e, \"\\n\")\n",
    "det_e = round(np.linalg.det(e))\n",
    "print(f\"Determinan e = {det_e}\")"
   ]
  },
  {
   "cell_type": "markdown",
   "metadata": {},
   "source": [
    "#### Pembuktian :\n",
    "$$\n",
    "\\begin{equation} A =\n",
    "\\left[ \\begin{array}{cccc} 1&0&0&3\\\\\n",
    "2&7&0&0\\\\\n",
    "0&6&3&0\\\\\n",
    "7&3&1&-5 \\end{array}\\right]\n",
    "\\end{equation}\n",
    "$$   "
   ]
  },
  {
   "cell_type": "markdown",
   "metadata": {},
   "source": [
    "Langkah 1:  \n",
    "Hitung determinan matriks minor dari baris pertama.\n",
    "\n",
    "$$\\begin{align}\n",
    "\\begin{vmatrix} 7 & 0 & 0 \\\\ 6 & 3 & 0 \\\\ 3 & 1 & -5\\end{vmatrix}\n",
    "\\end{align}$$\n",
    "\n",
    "Langkah 2:   \n",
    "Gunakan aturan ekspansi kofaktor untuk matriks 3x3 dan hitung determinan untuk masing-masing matriks minor 2x2.\n",
    "\n",
    "$$\\begin{align}\n",
    "& = 7 \\times \\text{det} \\begin{vmatrix} 3 & 0 \\\\ 1 & -5 \\end{vmatrix} - 0 \\times \\text{det} \\begin{vmatrix} 6 & 0 \\\\ 3 & -5 \\end{vmatrix} + 0 \\times \\text{det} \\begin{vmatrix} 6 & 3 \\\\ 3 & 1 \\end{vmatrix} \\\\\n",
    "& = 7 \\times ((3 \\times -5) - (0 \\times 1)) - 0 \\times ((6 \\times (-5)) - (0 \\times 3)) + 0 \\times ((6 \\times 1) - (3 \\times 3)) \\\\\n",
    "& = 7 \\times (-15) - 0 + 0 \\\\\n",
    "& = -105\n",
    "\\end{align}$$\n",
    "\n",
    "Jadi, determinan matriks minor dari baris pertama adalah -105.  \n",
    "\n",
    "Langkah 3:  \n",
    "Hitung determinan matriks untuk elemen kedua dan ketiga dari baris pertama (yang bernilai nol). Karena keduanya nol, maka determinannya juga nol.  \n",
    "\n",
    "Langkah 4:  \n",
    "Hitung determinan matriks minor dari elemen keempat baris pertama.\n",
    "\n",
    "$$\\begin{align}\n",
    "\\begin{vmatrix} 2 & 7 & 0 \\\\ 0 & 6 & 3 \\\\ 7 & 3 & 1\\end{vmatrix}\n",
    "\\end{align}$$\n",
    "\n",
    "Langkah 5:  \n",
    "Hitung determinan matriks minor dari elemen keempat baris pertama dan gunakan aturan ekspansi kofaktor untuk matriks 3x3.   \n",
    "\n",
    "$$\\begin{align}\n",
    "& = 2 \\times \\text{det} \\begin{vmatrix} 6 & 3 \\\\ 3 & 1 \\end{vmatrix} - 7 \\times \\text{det} \\begin{vmatrix} 0 & 3 \\\\ 7 & 1 \\end{vmatrix} + 0 \\times \\text{det} \\begin{vmatrix} 0 & 6 \\\\ 7 & 3 \\end{vmatrix} \\\\\n",
    "& = 2 \\times ((6 \\times 1) - (3 \\times 3)) - 7 \\times ((0 \\times 1) - (3 \\times 7)) + 0\\\\\n",
    "& = 2 \\times (-3) - 7 \\times (-21) \\\\\n",
    "& = -6 + 147 \\\\\n",
    "& = 141\n",
    "\\end{align}$$\n",
    "\n",
    "Jadi, determinan matriks minor dari elemen keempat baris pertama adalah 141.\n",
    "\n",
    "Langkah 6:  \n",
    "Hitung determinan keseluruhan dengan mengalikan masing-masing determinan matriks minor dengan kofaktornya, yaitu (-1)^(i+j), di mana i dan j adalah indeks baris dan kolom elemen tersebut.\n",
    "\n",
    "$$\\begin{align}\n",
    "&\\text{det(A)} = 1 \\times (-105) - 0 \\times 0 + 0 \\times 0 - 3 \\times 141\\\\\n",
    "&\\text{det(A)} = -105 - 0 + 0 - 423 \\\\\n",
    "&\\text{det(A)} = -528\n",
    "\\end{align}$$\n",
    "\n",
    "Jadi, determinan dari matriks tersebut adalah -528."
   ]
  }
 ],
 "metadata": {
  "kernelspec": {
   "display_name": "Python 3",
   "language": "python",
   "name": "python3"
  },
  "language_info": {
   "codemirror_mode": {
    "name": "ipython",
    "version": 3
   },
   "file_extension": ".py",
   "mimetype": "text/x-python",
   "name": "python",
   "nbconvert_exporter": "python",
   "pygments_lexer": "ipython3",
   "version": "3.10.13"
  }
 },
 "nbformat": 4,
 "nbformat_minor": 2
}