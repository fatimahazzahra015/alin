{
 "cells": [
  {
   "cell_type": "markdown",
   "metadata": {},
   "source": [
    "# **ALJABAR MATRIKS**"
   ]
  },
  {
   "cell_type": "markdown",
   "metadata": {},
   "source": [
    "### **Pengertian Matriks:**\n",
    "Matriks adalah susunan bilagan real(atau elemen-elemen) yang disusun dalam baris dan kolom sehingga membentuk persegi ataupun persegi panjang. Setiap elemen memiliki posisi unik dalam matriks, ditentukan oleh baris dan kolomnya. Misalnya, matriks 2x3 memiliki 2 baris dan 3 kolom. suatu matriks biasa diberi nama dengan menggunakan huruf kapital (seperti A, B dll) dan elemennya dinyatakan dengan huruf kecil.\n",
    "\n",
    "\n",
    "\n",
    " Berikut Contoh Matriks :\n",
    "\n",
    "$$\n",
    "\\begin{equation} A = \n",
    "\\left[ \\begin{array}{cccc} 3&1&4\\\\\n",
    "5&2&1\\\\\n",
    "2&8&5 \\end{array}\\right]\n",
    "\\end{equation}\n",
    "$$\n",
    "\n",
    "$$\n",
    "\\begin{equation} B = \n",
    "\\left[ \\begin{array}{cccc} -4&0&8\\\\\n",
    "0&7&9\\\\\n",
    "3&6&1 \\end{array}\\right]\n",
    "\\end{equation}\n",
    "$$\n",
    "\n",
    "$$\n",
    "\\begin{equation} c = \n",
    "\\left[ \\begin{array}{cccc} 8&9\\\\\n",
    "4&0\\\\\n",
    "9&2 \\end{array}\\right]\n",
    "\\end{equation}\n",
    "$$\n",
    "\n",
    "$$\n",
    "\\begin{equation} c = \n",
    "\\left[ \\begin{array}{cccc}1&5&8\\\\\n",
    "2&9&6\\\\\n",
    "7&6&0 \\end{array}\\right]\n",
    "\\end{equation}\n",
    "$$\n"
   ]
  },
  {
   "cell_type": "markdown",
   "metadata": {},
   "source": [
    "## **Implementasi dengan Numpy**\n",
    "\n",
    "Saat array dibuat, informasi ini disimpan sebagai bagian dari  objek array dan dapat diakses dengan metode yang disebut shape. Jika C adalah sebuah array, objek C.shape itu sendiri adalah sebuah array yang memiliki dua nilai masukan. Yang pertama (dengan indeks 0!) adalah jumlah baris, dan yang kedua (dengan indeks 1!) adalah jumlah kolom.\n",
    "\n"
   ]
  },
  {
   "cell_type": "code",
   "execution_count": 2,
   "metadata": {},
   "outputs": [
    {
     "name": "stdout",
     "output_type": "stream",
     "text": [
      "[[3 1 4]\n",
      " [5 2 1]\n",
      " [2 8 5]]\n",
      "(3, 2)\n"
     ]
    }
   ],
   "source": [
    "import numpy as np\n",
    "A = np.array([[3, 1, 4],[5, 2, 1],[2, 8, 5]])\n",
    "B = np.array([[-4, 0, 8],[0, 7, 9],[3, 6, 1]])\n",
    "C = np.array([[8, 9],[4, 0],[9, 2]])\n",
    "D = np.array([[1, 5, 8],[2, 9, 6],[7, 6, 0]])\n",
    "print(A)\n",
    "print(C.shape) # digunakan untuk melihat banyak baris dan kolom"
   ]
  },
  {
   "cell_type": "markdown",
   "metadata": {},
   "source": [
    "## **Operasi pada Matriks**\n",
    "Operasi matriks adalah serangkaian operasi atau tindakan yang dilakukan pada matriks, baik itu untuk mengubah matriks ataupun menggabungkan matriks. Berikut beberapa operasi matriks yang sering digunakan:\n"
   ]
  },
  {
   "cell_type": "markdown",
   "metadata": {},
   "source": [
    "### **1. Penjumlahan Matriks :**\n",
    "\n",
    "Operasi ini melibatkan penambahan elemen-elemen yang berada pada posisi yang sama dari dua matriks yang memiliki ordo yang sama. Artinya kedua matriks ini harus memiliki baris dan kolom yang sama.\n",
    "\n",
    "CONTOH PENJUMLAHAN MATRIKS A + B :\n",
    "\n",
    "$$\n",
    "\\begin{equation} A = \n",
    "\\left[ \\begin{array}{cccc} 3&1&4\\\\\n",
    "5&2&1\\\\\n",
    "2&8&5 \\end{array}\\right]\n",
    "\\end{equation}\n",
    "$$\n",
    "\n",
    "$$\n",
    "\\begin{equation} B = \n",
    "\\left[ \\begin{array}{cccc} -4&0&8\\\\\n",
    "0&7&9\\\\\n",
    "3&6&1 \\end{array}\\right]\n",
    "\\end{equation}\n",
    "$$\n",
    "\n",
    "$$\n",
    "\\begin{equation} A + B = \n",
    "\\left[ \\begin{array}{cccc}\n",
    "3+(-4)&1+0&4+8\\\\\n",
    "5+0&2+7&1+9\\\\\n",
    "2+3&8+6&5+1 \\end{array}\\right]\n",
    "\\end{equation}\n",
    "$$\n",
    "\n",
    "$$\n",
    "\\begin{equation} = \n",
    "\\left[ \\begin{array}{cccc} -1&1&12\\\\\n",
    "5&9&10\\\\\n",
    "5&14&6\\end{array}\\right]\n",
    "\\end{equation}\n",
    "$$\n",
    "\n",
    "BERIKUT PROGRAM UNTUK PENJUMLAHAN MATRIKS:\n",
    "\n"
   ]
  },
  {
   "cell_type": "code",
   "execution_count": 3,
   "metadata": {},
   "outputs": [
    {
     "name": "stdout",
     "output_type": "stream",
     "text": [
      "A+B=\n",
      " [[-1  1 12]\n",
      " [ 5  9 10]\n",
      " [ 5 14  6]]\n",
      "B+A=\n",
      " [[-1  1 12]\n",
      " [ 5  9 10]\n",
      " [ 5 14  6]]\n",
      "Sifat di atas merupakan sifat komutatif karena A+B = B+A\n"
     ]
    }
   ],
   "source": [
    "print('A+B=\\n',A+B)\n",
    "print('B+A=\\n',B+A)\n",
    "print('Sifat di atas merupakan sifat komutatif karena A+B = B+A')"
   ]
  },
  {
   "cell_type": "markdown",
   "metadata": {},
   "source": [
    "### **2. Pengurangan Matriks:**\n",
    "\n",
    "Operasi ini melibatkan pengurangan elemen-elemen yang berada pada posisi yang sama dari dua matriks yang memiliki ordo yang sama. Artinya kedua matriks ini harus memiliki baris dan kolom yang sama.\n",
    "\n",
    "CONTOH PENGURANGAN MATRIKS:\n",
    "\n",
    "$$\n",
    "\\begin{equation} A = \n",
    "\\left[ \\begin{array}{cccc} 3&1&4\\\\\n",
    "5&2&1\\\\\n",
    "2&8&5 \\end{array}\\right]\n",
    "\\end{equation}\n",
    "$$\n",
    "\n",
    "$$\n",
    "\\begin{equation} B = \n",
    "\\left[ \\begin{array}{cccc} -4&0&8\\\\\n",
    "0&7&9\\\\\n",
    "3&6&1 \\end{array}\\right]\n",
    "\\end{equation}\n",
    "$$\n",
    "\n",
    "$$\n",
    "\\begin{equation} A - B = \n",
    "\\left[ \\begin{array}{cccc}\n",
    "3-(-4)&1-0&4-8\\\\\n",
    "5-0&2-7&1-9\\\\\n",
    "2-3&8-6&5-1\\end{array}\\right]\n",
    "\\end{equation}\n",
    "$$\n",
    "\n",
    "$$\n",
    "\\begin{equation} = \n",
    "\\left[ \\begin{array}{cccc} 7&1&4\\\\\n",
    "5&-5&-8\\\\\n",
    "-1&2&4\\end{array}\\right]\n",
    "\\end{equation}\n",
    "$$\n",
    "\n",
    "\n",
    "BERIKUT PROGRAM UNTUK PENGURANGAN MATRIKS:"
   ]
  },
  {
   "cell_type": "code",
   "execution_count": 4,
   "metadata": {},
   "outputs": [
    {
     "name": "stdout",
     "output_type": "stream",
     "text": [
      "A-B=\n",
      " [[ 7  1 -4]\n",
      " [ 5 -5 -8]\n",
      " [-1  2  4]]\n",
      "B-A=\n",
      " [[-7 -1  4]\n",
      " [-5  5  8]\n",
      " [ 1 -2 -4]]\n",
      "Sifat di BUKAN merupakan sifat komutatif karena A-B TIDAK SAMA DENGAN B-A\n"
     ]
    }
   ],
   "source": [
    "print('A-B=\\n', A-B)\n",
    "print('B-A=\\n', B-A)\n",
    "print('Sifat di BUKAN merupakan sifat komutatif karena A-B TIDAK SAMA DENGAN B-A')"
   ]
  },
  {
   "cell_type": "markdown",
   "metadata": {},
   "source": [
    "### **3. Perkalian Matriks:**\n",
    "\n",
    "Operasi ini melibatkan perkalian elemen-elemen matriks. Untuk melakukan perkalian matriks A dan B, jumlah kolom dalam matriks A harus sama dengan jumlah baris dalam matriks B. Contoh matriks A memiliki ordo atau ukuran mxn, maka matriks B harus memiliki ordo atau ukuran nxp. Sehingga hasil dari perkalian tersebut akan menghasilkan matriks baru dengan ukuran mxp. Hasilnya akan memiliki jumlah baris yang sama dengan matriks A dan jumlah kolom yang sama dengan matriks B.\n",
    "\n",
    "CONTOH PERKALIAN MATRIKS:\n",
    "\n",
    "$$\n",
    "\\begin{equation} A = \n",
    "\\left[ \\begin{array}{cccc} 3&1&4\\\\\n",
    "5&2&1\\\\\n",
    "2&8&5 \\end{array}\\right]\n",
    "\\end{equation}\n",
    "$$\n",
    "\n",
    "$$\n",
    "\\begin{equation} B = \n",
    "\\left[ \\begin{array}{cccc} -4&0&8\\\\\n",
    "0&7&9\\\\\n",
    "3&6&1 \\end{array}\\right]\n",
    "\\end{equation}\n",
    "$$\n",
    "\n",
    "$$\n",
    "\\begin{equation} A x B = \n",
    "\\left[ \\begin{array}{cccc}\n",
    "3(-4)+1(0)+4(3) &3(0)+1(7)+4(6) &3(8)+1(9)+4(1)\\\\\n",
    "5(-4)+2(0)+1(3) &5(0)+2(7)+1(6) &5(8)+2(9)+1(1)\\\\\n",
    "2(-4)+8(0)+5(3) &2(0)+8(7)+5(6) &2(8)+8(9)+5(1)\\end{array}\\right]\n",
    "\\end{equation}\n",
    "$$\n",
    "\n",
    "$$\n",
    "\\begin{equation} = \n",
    "\\left[ \\begin{array}{cccc} \n",
    "0&31&37\\\\\n",
    "-17&20&59\\\\\n",
    "7&86&93\\end{array}\\right]\n",
    "\\end{equation}\n",
    "$$\n",
    "\n",
    "\n",
    "BERIKUT PROGRAM UNTUK PERKALIAN MATRIKS:"
   ]
  },
  {
   "cell_type": "code",
   "execution_count": 5,
   "metadata": {},
   "outputs": [
    {
     "name": "stdout",
     "output_type": "stream",
     "text": [
      "A*B=\n",
      " [[  0  31  37]\n",
      " [-17  20  59]\n",
      " [  7  86  93]]\n",
      "A*C=\n",
      " [[64 35]\n",
      " [57 47]\n",
      " [93 28]]\n",
      "B*C=\n",
      " [[ 40 -20]\n",
      " [109  18]\n",
      " [ 57  29]]\n"
     ]
    }
   ],
   "source": [
    "print('A*B=\\n',A@B)\n",
    "print('A*C=\\n',A@C)\n",
    "print('B*C=\\n',B@C)"
   ]
  },
  {
   "cell_type": "markdown",
   "metadata": {},
   "source": [
    "- Sifat Asosiasi:\n",
    "\n",
    "  (AB)C = A(BC)"
   ]
  },
  {
   "cell_type": "code",
   "execution_count": 6,
   "metadata": {},
   "outputs": [
    {
     "name": "stdout",
     "output_type": "stream",
     "text": [
      "A(BC) =\n",
      " [[ 457   74]\n",
      " [ 475  -35]\n",
      " [1237  249]]\n",
      "(AB)C =\n",
      " [[ 457   74]\n",
      " [ 475  -35]\n",
      " [1237  249]]\n"
     ]
    }
   ],
   "source": [
    "print('A(BC) =\\n', A@(B@C))\n",
    "print('(AB)C =\\n',(A@B)@C)"
   ]
  },
  {
   "cell_type": "markdown",
   "metadata": {},
   "source": [
    "- Perkalian skalar:\n",
    "\n",
    "  c(AB) = (cA)B = A(cB)"
   ]
  },
  {
   "cell_type": "code",
   "execution_count": 7,
   "metadata": {},
   "outputs": [
    {
     "name": "stdout",
     "output_type": "stream",
     "text": [
      "c(AB) =\n",
      " [[  0  93 111]\n",
      " [-51  60 177]\n",
      " [ 21 258 279]]\n",
      "(cA)B =\n",
      " [[  0  93 111]\n",
      " [-51  60 177]\n",
      " [ 21 258 279]]\n",
      "A(cB) =\n",
      " [[  0  93 111]\n",
      " [-51  60 177]\n",
      " [ 21 258 279]]\n"
     ]
    }
   ],
   "source": [
    "c = 3\n",
    "print('c(AB) =\\n',c*(A@B))\n",
    "print('(cA)B =\\n',(c*A)@B)\n",
    "print('A(cB) =\\n',A@(c*B))"
   ]
  },
  {
   "cell_type": "markdown",
   "metadata": {},
   "source": [
    "- Perkalian identitas:\n",
    "\n",
    "  AI = IA = A"
   ]
  },
  {
   "cell_type": "code",
   "execution_count": 8,
   "metadata": {},
   "outputs": [
    {
     "name": "stdout",
     "output_type": "stream",
     "text": [
      "AI=\n",
      " [[3 1 4]\n",
      " [5 2 1]\n",
      " [2 8 5]]\n",
      "IA=\n",
      " [[3 1 4]\n",
      " [5 2 1]\n",
      " [2 8 5]]\n",
      "A=\n",
      " [[3 1 4]\n",
      " [5 2 1]\n",
      " [2 8 5]]\n"
     ]
    }
   ],
   "source": [
    "i = np.array([[1,0,0],[0,1,0],[0,0,1]])\n",
    "print('AI=\\n',A@i)\n",
    "print('IA=\\n',i@A)\n",
    "print('A=\\n',A)"
   ]
  },
  {
   "cell_type": "markdown",
   "metadata": {},
   "source": [
    "- Tidak berlaku sifat kumutatif:\n",
    "\n",
    "  AB != BA atau AB tidak sama dengan BA"
   ]
  },
  {
   "cell_type": "code",
   "execution_count": 9,
   "metadata": {},
   "outputs": [
    {
     "name": "stdout",
     "output_type": "stream",
     "text": [
      "AB=\n",
      " [[  0  31  37]\n",
      " [-17  20  59]\n",
      " [  7  86  93]]\n",
      "BA=\n",
      " [[ 4 60 24]\n",
      " [53 86 52]\n",
      " [41 23 23]]\n"
     ]
    }
   ],
   "source": [
    "print('AB=\\n',A@B)\n",
    "print('BA=\\n',B@A)"
   ]
  },
  {
   "cell_type": "markdown",
   "metadata": {},
   "source": [
    "### **4. Transpose Matriks**\n",
    "\n",
    "Transpose matriks adalah matriks baru yang diperoleh dengan cara menukar elemen-elemen baris menjadi elemen kolom atau sebaliknya. Jika sebuah matriks berukuran M X N, maka transpose matriks tersebut memiliki ordo N X M.\n",
    "\n",
    "CONTOH TRANSPOSE MATRIKS:\n",
    "\n",
    "$$\n",
    "\\begin{equation} C = \n",
    "\\left[ \\begin{array}{cccc}\n",
    "8&9\\\\\n",
    "4&0\\\\\n",
    "9&2\\end{array}\\right]\n",
    "\\end{equation}\n",
    "$$\n",
    "\n",
    "$$\n",
    "\\begin{equation} CT (C Transposre) =\n",
    "\\left[ \\begin{array}{cccc}\n",
    "8&4&9\\\\\n",
    "9&0&2\\end{array}\\right]\n",
    "\\end{equation}\n",
    "$$\n",
    "\n",
    "\n",
    "BERIKUT PROGRAM UNTUK MENG-TRANSPOSE MATRIKS:"
   ]
  },
  {
   "cell_type": "code",
   "execution_count": 10,
   "metadata": {},
   "outputs": [
    {
     "name": "stdout",
     "output_type": "stream",
     "text": [
      "[[8 4 9]\n",
      " [9 0 2]]\n"
     ]
    }
   ],
   "source": [
    "C_T = C.transpose()\n",
    "print(C_T)"
   ]
  },
  {
   "cell_type": "code",
   "execution_count": 11,
   "metadata": {},
   "outputs": [
    {
     "name": "stdout",
     "output_type": "stream",
     "text": [
      "Z = C_transpose x C =\n",
      " [[161  90]\n",
      " [ 90  85]]\n",
      "ordo z adalah (2, 2)\n",
      "P = C x C_transpose =\n",
      " [[145  32  90]\n",
      " [ 32  16  36]\n",
      " [ 90  36  85]]\n",
      "ordo P adalah (3, 3)\n",
      "Dapat disimpulkan bahwa C_transpose X C tidak sama dengan C X C_transpose\n"
     ]
    }
   ],
   "source": [
    "Z = C_T @ C\n",
    "print('Z = C_transpose x C =\\n',Z)\n",
    "print('ordo z adalah',Z.shape)\n",
    "Y = C @ C_T\n",
    "print('P = C x C_transpose =\\n',Y)\n",
    "print('ordo P adalah',Y.shape)\n",
    "print(\"Dapat disimpulkan bahwa C_transpose X C tidak sama dengan C X C_transpose\")"
   ]
  },
  {
   "cell_type": "markdown",
   "metadata": {},
   "source": [
    "## **Program Perkalian Matriks**"
   ]
  },
  {
   "cell_type": "code",
   "execution_count": 16,
   "metadata": {},
   "outputs": [
    {
     "data": {
      "text/plain": [
       "[[0, 31, 37], [-17, 20, 59], [7, 86, 93]]"
      ]
     },
     "execution_count": 16,
     "metadata": {},
     "output_type": "execute_result"
    }
   ],
   "source": [
    "def perkalian(matrix1, matrix2):\n",
    "    if len(matrix1[0]) != len(matrix2):\n",
    "        print(\"Perkalian matriks tidak dapat dilakukan karena jumlah kolom dalam matriks pertama tidak sama dengan jumlah baris dalam matriks kedua\")\n",
    "        return None\n",
    "    result = [[0 for _ in range(len(matrix2[0]))] for _ in range(len(matrix1))]\n",
    "    for i in range(len(matrix1)):\n",
    "        for j in range(len(matrix2[0])):\n",
    "            for k in range(len(matrix2)):\n",
    "                result[i][j] += matrix1[i][k] * matrix2[k][j]\n",
    "    return result\n",
    "\n",
    "def tampilan_hasil(matrix):\n",
    "    for baris in matrix:\n",
    "        print(baris)\n",
    "\n",
    "perkalian(A,B)"
   ]
  }
 ],
 "metadata": {
  "kernelspec": {
   "display_name": "Python 3",
   "language": "python",
   "name": "python3"
  },
  "language_info": {
   "codemirror_mode": {
    "name": "ipython",
    "version": 3
   },
   "file_extension": ".py",
   "mimetype": "text/x-python",
   "name": "python",
   "nbconvert_exporter": "python",
   "pygments_lexer": "ipython3",
   "version": "3.10.13"
  }
 },
 "nbformat": 4,
 "nbformat_minor": 2
}
