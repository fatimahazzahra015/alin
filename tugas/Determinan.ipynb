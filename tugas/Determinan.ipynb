{
 "cells": [
  {
   "cell_type": "markdown",
   "metadata": {},
   "source": [
    "# **DETERMINAN**"
   ]
  },
  {
   "cell_type": "markdown",
   "metadata": {},
   "source": [
    "adalah ukuran skalar dari sebuah matriks atau selisih antara perkalian elemen-elemen pada diagonal utama dengan perkalian elemen-elemen pada diagonal sekunder.\n",
    "\n",
    "## **Sifat-sifat determinan :**\n",
    "1. Determinan dari matrix identitas adalah 1  \n",
    "contoh :"
   ]
  },
  {
   "cell_type": "code",
   "execution_count": 4,
   "metadata": {},
   "outputs": [
    {
     "name": "stdout",
     "output_type": "stream",
     "text": [
      "[[4 2]\n",
      " [3 1]] \n",
      "\n",
      "[[4 1 3]\n",
      " [6 2 5]\n",
      " [8 4 5]]\n"
     ]
    }
   ],
   "source": [
    "import numpy as np\n",
    "a = np.array([[4,2],[3,1]])\n",
    "b = np.array([[4,1,3],[6,2,5],[8,4,5]])\n",
    "c = np.array([[1,0],[0,1]])\n",
    "d = np.array([[1,0,0],[0,1,0],[0,0,1]])\n",
    "print(a,\"\\n\")\n",
    "print(b)"
   ]
  },
  {
   "cell_type": "code",
   "execution_count": 8,
   "metadata": {},
   "outputs": [
    {
     "data": {
      "text/plain": [
       "array([[-5, -3],\n",
       "       [-4, -2]])"
      ]
     },
     "execution_count": 8,
     "metadata": {},
     "output_type": "execute_result"
    }
   ],
   "source": [
    "# a invers\n",
    "ainv = np.invert (a)\n",
    "ainv"
   ]
  },
  {
   "cell_type": "code",
   "execution_count": 15,
   "metadata": {},
   "outputs": [
    {
     "data": {
      "text/plain": [
       "array([[-5, -2, -4],\n",
       "       [-7, -3, -6],\n",
       "       [-9, -5, -6]])"
      ]
     },
     "execution_count": 15,
     "metadata": {},
     "output_type": "execute_result"
    }
   ],
   "source": [
    "# b invers\n",
    "binv = np.invert(b)\n",
    "binv"
   ]
  },
  {
   "cell_type": "markdown",
   "metadata": {},
   "source": [
    "2. Misalkan a dan b adalah matriks bujur sangakar, maka  \n",
    "det (c) = det (a) * det (b)  \n",
    "det (I) = det (a) * det (a inv)  \n"
   ]
  },
  {
   "cell_type": "code",
   "execution_count": 24,
   "metadata": {},
   "outputs": [
    {
     "name": "stdout",
     "output_type": "stream",
     "text": [
      "Determinan A = -2.0\n"
     ]
    }
   ],
   "source": [
    "# determinan a\n",
    "det_a = np.linalg.det(a)\n",
    "print(f\"Determinan A = {det_a}\")"
   ]
  },
  {
   "cell_type": "code",
   "execution_count": 19,
   "metadata": {},
   "outputs": [
    {
     "data": {
      "text/plain": [
       "-0.5"
      ]
     },
     "execution_count": 19,
     "metadata": {},
     "output_type": "execute_result"
    }
   ],
   "source": [
    "# determinan a invers\n",
    "det_ainv = 1 / det_a\n",
    "det_ainv"
   ]
  },
  {
   "cell_type": "code",
   "execution_count": 23,
   "metadata": {},
   "outputs": [
    {
     "name": "stdout",
     "output_type": "stream",
     "text": [
      "Determinan B = -6.0\n"
     ]
    }
   ],
   "source": [
    "# determinan b\n",
    "det_b = np.linalg.det(b)\n",
    "print(f\"Determinan B = {det_b}\")"
   ]
  },
  {
   "cell_type": "code",
   "execution_count": 16,
   "metadata": {},
   "outputs": [
    {
     "data": {
      "text/plain": [
       "-0.16666666666666666"
      ]
     },
     "execution_count": 16,
     "metadata": {},
     "output_type": "execute_result"
    }
   ],
   "source": [
    "# determinan b invers\n",
    "det_binv = 1 / det_b\n",
    "det_binv"
   ]
  },
  {
   "cell_type": "code",
   "execution_count": 20,
   "metadata": {},
   "outputs": [
    {
     "name": "stdout",
     "output_type": "stream",
     "text": [
      "1.0\n"
     ]
    }
   ],
   "source": [
    "hasil = (det_a * det_ainv) * (det_b *det_binv)\n",
    "print(hasil)"
   ]
  },
  {
   "cell_type": "markdown",
   "metadata": {},
   "source": [
    "3. Merubah baris atau kolom dari matriks maka akan merubah tanda dari determinan"
   ]
  },
  {
   "cell_type": "code",
   "execution_count": 22,
   "metadata": {},
   "outputs": [
    {
     "name": "stdout",
     "output_type": "stream",
     "text": [
      "[[1 4 2]\n",
      " [1 1 1]\n",
      " [3 2 1]] \n",
      "\n",
      "Determinan E = 5\n"
     ]
    }
   ],
   "source": [
    "e = np.array([[1,4,2],[1,1,1],[3,2,1]])\n",
    "print(e, \"\\n\")\n",
    "det_e = round(np.linalg.det(e))\n",
    "print(f\"Determinan E = {det_e}\")"
   ]
  },
  {
   "cell_type": "code",
   "execution_count": 26,
   "metadata": {},
   "outputs": [
    {
     "name": "stdout",
     "output_type": "stream",
     "text": [
      "[[1 1 1]\n",
      " [1 4 2]\n",
      " [3 2 1]] \n",
      "\n",
      "Determinan F = -5\n"
     ]
    }
   ],
   "source": [
    "#merubah baris dari matriks\n",
    "f = np.array([[1,1,1],[1,4,2],[3,2,1]])\n",
    "print(f,\"\\n\")\n",
    "det_f = round(np.linalg.det(f))\n",
    "print(f\"Determinan F = {det_f}\")"
   ]
  },
  {
   "cell_type": "markdown",
   "metadata": {},
   "source": [
    "4. Jika baris/kolom merupakan kelipatan dari baris/kolom yang lain maka determinannya adalah 0"
   ]
  },
  {
   "cell_type": "code",
   "execution_count": 28,
   "metadata": {},
   "outputs": [
    {
     "name": "stdout",
     "output_type": "stream",
     "text": [
      "[[1 4 2]\n",
      " [2 8 4]\n",
      " [3 2 1]] \n",
      "\n",
      "Determinan G = 0\n"
     ]
    }
   ],
   "source": [
    "# baris 2 merupakan kelipatan dari baris 1\n",
    "g = np.array([[1,4,2],[2,8,4],[3,2,1]])\n",
    "print(g, \"\\n\")\n",
    "det_g = round(np.linalg.det(g))\n",
    "print(f\"Determinan G = {det_g}\")"
   ]
  },
  {
   "cell_type": "code",
   "execution_count": 29,
   "metadata": {},
   "outputs": [
    {
     "name": "stdout",
     "output_type": "stream",
     "text": [
      "[[1 4 2]\n",
      " [2 8 3]\n",
      " [1 4 1]] \n",
      "\n",
      "Determinan G = 0\n"
     ]
    }
   ],
   "source": [
    "# kolom 2 merupakan kelipatan dari kolom 1\n",
    "g = np.array([[1,4,2],[2,8,3],[1,4,1]])\n",
    "print(g, \"\\n\")\n",
    "det_g = round(np.linalg.det(g))\n",
    "print(f\"Determinan G = {det_g}\")"
   ]
  },
  {
   "cell_type": "markdown",
   "metadata": {},
   "source": [
    "5. Jika K = Skalar dan Anxn memiliki nxn maka,  \n",
    "det (KA) = K^n * det(A)"
   ]
  },
  {
   "cell_type": "code",
   "execution_count": 35,
   "metadata": {},
   "outputs": [
    {
     "name": "stdout",
     "output_type": "stream",
     "text": [
      "Determinan KA = 40\n"
     ]
    }
   ],
   "source": [
    "det_KA = (2**3) * 5\n",
    "print(f\"Determinan KA = {det_KA}\")"
   ]
  },
  {
   "cell_type": "code",
   "execution_count": 36,
   "metadata": {},
   "outputs": [
    {
     "name": "stdout",
     "output_type": "stream",
     "text": [
      "[[2 8 4]\n",
      " [2 2 2]\n",
      " [6 4 2]] \n",
      "\n",
      "Determinan ke = 40\n"
     ]
    }
   ],
   "source": [
    "# Pembuktian\n",
    "ke = np.array([[2,8,4],[2,2,2],[6,4,2]])\n",
    "print(ke, \"\\n\")\n",
    "det_ke = round(np.linalg.det(ke))\n",
    "print(f\"Determinan ke = {det_ke}\")"
   ]
  },
  {
   "cell_type": "markdown",
   "metadata": {},
   "source": [
    "6. Jika T = Skalar dan  \n",
    "$$\n",
    "\\begin{equation}  B=\n",
    "\\left[ \\begin{array}{cccc} ta&tb&tc\\\\\n",
    "d&e&f\\\\\n",
    "g&h&i \\end{array}\\right]\n",
    "\\end{equation}\n",
    "$$   \n",
    "$$\n",
    "\\begin{equation} A =\n",
    "\\left[ \\begin{array}{cccc} a&b&c\\\\\n",
    "d&e&f\\\\\n",
    "g&h&i \\end{array}\\right]\n",
    "\\end{equation}\n",
    "$$   \n",
    "det (B) = t * det(A)"
   ]
  },
  {
   "cell_type": "code",
   "execution_count": 37,
   "metadata": {},
   "outputs": [
    {
     "name": "stdout",
     "output_type": "stream",
     "text": [
      "[[2 8 4]\n",
      " [1 1 1]\n",
      " [3 2 1]] \n",
      "\n",
      "Determinan H = 5\n"
     ]
    }
   ],
   "source": [
    "h = np.array([[2,8,4],[1,1,1],[3,2,1]])\n",
    "print(h, \"\\n\")\n",
    "det_h = round(np.linalg.det(e))\n",
    "print(f\"Determinan H = {det_h}\")"
   ]
  },
  {
   "cell_type": "markdown",
   "metadata": {},
   "source": [
    "7. Matriks segitiga atas adalah matriks bujursangkar yang semua entri dibawah diagonal utama bernilai nol.  \n",
    "$$\n",
    "\\begin{equation} A =\n",
    "\\left[ \\begin{array}{cccc} d1& . & .\\\\\n",
    "0&d2&.\\\\\n",
    "0&0&dn \\end{array}\\right]\n",
    "\\end{equation}\n",
    "$$  \n",
    "det (A) = d1, d2, ... ,dn\n",
    "Determinan dari matriks segitiga atas adalah hasil perkalian dari setiap elemen diaogonal"
   ]
  },
  {
   "cell_type": "code",
   "execution_count": 38,
   "metadata": {},
   "outputs": [
    {
     "name": "stdout",
     "output_type": "stream",
     "text": [
      "[[1 4 2]\n",
      " [0 4 1]\n",
      " [0 0 1]] \n",
      "\n",
      "Determinan a = 4\n"
     ]
    }
   ],
   "source": [
    "a = np.array([[1,4,2],[0,4,1],[0,0,1]])\n",
    "print(a, \"\\n\")\n",
    "det_a = round(np.linalg.det(a))\n",
    "print(f\"Determinan a = {det_a}\")"
   ]
  },
  {
   "cell_type": "markdown",
   "metadata": {},
   "source": [
    "8. Melakukan operasi baris elementer terhadap suatu baris tidak akan merubah determinan dan inversnya"
   ]
  },
  {
   "cell_type": "code",
   "execution_count": 39,
   "metadata": {},
   "outputs": [
    {
     "name": "stdout",
     "output_type": "stream",
     "text": [
      "[[ 1  4  2]\n",
      " [ 0 -3 -1]\n",
      " [ 3  2  1]] \n",
      "\n",
      "Determinan a = 5\n"
     ]
    }
   ],
   "source": [
    "a = np.array([[1,4,2],[0,-3,-1],[3,2,1]])\n",
    "print(a, \"\\n\")\n",
    "det_a = round(np.linalg.det(a))\n",
    "print(f\"Determinan a = {det_a}\")"
   ]
  },
  {
   "cell_type": "markdown",
   "metadata": {},
   "source": [
    "9. det (A) = det (A Tranpuse)"
   ]
  },
  {
   "cell_type": "code",
   "execution_count": 42,
   "metadata": {},
   "outputs": [
    {
     "name": "stdout",
     "output_type": "stream",
     "text": [
      "[[1 4 2]\n",
      " [1 1 1]\n",
      " [3 2 1]] \n",
      "\n",
      "Determinan e = 5\n"
     ]
    }
   ],
   "source": [
    "e = np.array([[1,4,2],[1,1,1],[3,2,1]])\n",
    "print(e, \"\\n\")\n",
    "det_e = round(np.linalg.det(e))\n",
    "print(f\"Determinan e = {det_e}\")"
   ]
  },
  {
   "cell_type": "code",
   "execution_count": 43,
   "metadata": {},
   "outputs": [
    {
     "name": "stdout",
     "output_type": "stream",
     "text": [
      "[[1 1 3]\n",
      " [4 1 2]\n",
      " [2 1 1]] \n",
      "\n",
      "Determinan e tranpose = 5\n"
     ]
    }
   ],
   "source": [
    "# determinan e tranpose\n",
    "e_tran = e.transpose()\n",
    "print(e_tran,\"\\n\")\n",
    "det_etran = round(np.linalg.det(e_tran))\n",
    "print(f\"Determinan e tranpose = {det_etran}\")"
   ]
  },
  {
   "cell_type": "markdown",
   "metadata": {},
   "source": [
    "## **Ekspansi Kofaktor**"
   ]
  },
  {
   "cell_type": "code",
   "execution_count": 44,
   "metadata": {},
   "outputs": [
    {
     "name": "stdout",
     "output_type": "stream",
     "text": [
      "[[4 3 2 1]\n",
      " [1 1 1 1]\n",
      " [2 3 1 2]\n",
      " [4 4 2 1]] \n",
      "\n",
      "Determinan e = 3\n"
     ]
    }
   ],
   "source": [
    "e = np.array([[4,3,2,1],[1,1,1,1],[2,3,1,2],[4,4,2,1]])\n",
    "print(e, \"\\n\")\n",
    "det_e = round(np.linalg.det(e))\n",
    "print(f\"Determinan e = {det_e}\")"
   ]
  },
  {
   "cell_type": "code",
   "execution_count": 45,
   "metadata": {},
   "outputs": [
    {
     "name": "stdout",
     "output_type": "stream",
     "text": [
      "[[1 0 0 0]\n",
      " [0 1 0 1]\n",
      " [1 0 0 0]\n",
      " [0 1 2 1]] \n",
      "\n",
      "Determinan e = 0\n"
     ]
    }
   ],
   "source": [
    "e = np.array([[1,0,0,0],[0,1,0,1],[1,0,0,0],[0,1,2,1]])\n",
    "print(e, \"\\n\")\n",
    "det_e = round(np.linalg.det(e))\n",
    "print(f\"Determinan e = {det_e}\")"
   ]
  },
  {
   "cell_type": "code",
   "execution_count": 46,
   "metadata": {},
   "outputs": [
    {
     "name": "stdout",
     "output_type": "stream",
     "text": [
      "[[4 2 3 2]\n",
      " [2 3 3 2]\n",
      " [1 4 3 2]\n",
      " [1 2 2 1]] \n",
      "\n",
      "Determinan e = 1\n"
     ]
    }
   ],
   "source": [
    "a = np.array([[4,2,3,2],[2,3,3,2],[1,4,3,2],[1,2,2,1]])\n",
    "print(a, \"\\n\")\n",
    "det_a = round(np.linalg.det(a))\n",
    "print(f\"Determinan e = {det_a}\")"
   ]
  },
  {
   "cell_type": "markdown",
   "metadata": {},
   "source": [
    "Jadi determinannya adalah 1"
   ]
  }
 ],
 "metadata": {
  "kernelspec": {
   "display_name": "Python 3",
   "language": "python",
   "name": "python3"
  },
  "language_info": {
   "codemirror_mode": {
    "name": "ipython",
    "version": 3
   },
   "file_extension": ".py",
   "mimetype": "text/x-python",
   "name": "python",
   "nbconvert_exporter": "python",
   "pygments_lexer": "ipython3",
   "version": "3.10.13"
  }
 },
 "nbformat": 4,
 "nbformat_minor": 2
}
