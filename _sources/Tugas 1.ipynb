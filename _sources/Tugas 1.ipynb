{
 "cells": [
  {
   "cell_type": "markdown",
   "metadata": {},
   "source": [
    "# **TUGAS 1**\n",
    "\n",
    "## SELAMAT BERTUGAS\n",
    "\n",
    "Sistem Linier\n",
    "\n",
    "$x^2 + 3x + 4$"
   ]
  }
 ],
 "metadata": {
  "language_info": {
   "name": "python"
  }
 },
 "nbformat": 4,
 "nbformat_minor": 2
}
