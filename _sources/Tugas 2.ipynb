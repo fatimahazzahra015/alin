{
 "cells": [
  {
   "cell_type": "markdown",
   "metadata": {},
   "source": [
    "# **TUGAS 2**\n",
    "## **SISTEM LINIER DAN METODE ELIMINASI GAUSSIAS**"
   ]
  },
  {
   "cell_type": "markdown",
   "metadata": {},
   "source": [
    "**ELIMINASI GAUSSIAN**   \n",
    "    Eliminasi gauss ditemukan oleh Carl Friedrich Gauss, metode ini dapat dimanfaatkan untuk memecahkan sistem persamaan linear dengan merepresentasikan (mengubah) menjadi bentuk matriks, matriks tersebut lalu diubah kebentuk Eselon Baris melalui Operasi Baris Elementer. Kemudian sistem diselesaikan dengan substitusi balik.   \n",
    "    \n",
    "**Bentuk Eselon Baris**    \n",
    "Suatu matriks memiliki bentuk eselon baris jika memenuhi 3 kriteria berikut   \n",
    "1. Jika didalam baris terdapat elemen-elemen yang tidak semuanya nol, maka bilangan tak nol pertama di dalam baris tersebut adalah 1.   \n",
    "2. kalau ada baris-baris yang semua elemennya  bernilai 0 semua, maka baris-baris tersebut harus dikelompokkan dan diletakkan dibagian bawah matriks.   \n",
    "3. Jika terdapat dua baris berurutan yang memenuhi kriteria pertama, maka angka 1 (pertama/utama) dari baris yang lebih rendah berada lebih kekanan dari angka 1(pertama/utama) baris yang diatasnya.\n",
    "\n",
    "ADA TIGA OPERASI YANG DAPAT DILAKUKAN\n",
    "1. Tukarkan posisi kedua persamaan.\n",
    "\n",
    "2. Kalikan persamaan dengan bilangan apa pun yang bukan nol.\n",
    "\n",
    "3. Gantikan suatu persamaan dengan jumlah persamaan itu sendiri dan kelipatan persamaan lainnya."
   ]
  },
  {
   "cell_type": "markdown",
   "metadata": {},
   "source": [
    "CONTOH    \n",
    "Selesaikan persamaan berikut ini dengan metode Eliminasi Gaussian\n",
    "$$\n",
    "8x_1+9x_2+x_3=19\\\\\n",
    "x_1+2x_2+3x_3=9\\\\\n",
    "2x_1+x_2+x_3=5\\\\\n",
    "$$\n",
    "\n",
    "yang pertama deklarasikan RowSwap, RowAdd dan RowScale untuk perhitungan selanjutnya"
   ]
  },
  {
   "cell_type": "code",
   "execution_count": 1,
   "metadata": {},
   "outputs": [],
   "source": [
    "def RowSwap(A,k,l):\n",
    "# =============================================================================\n",
    "#     A is a NumPy array.  RowSwap will return duplicate array with rows\n",
    "#     k and l swapped.\n",
    "# =============================================================================\n",
    "    m = A.shape[0]  # m is number of rows in A\n",
    "    n = A.shape[1]  # n is number of columns in A\n",
    "\n",
    "    B = np.copy(A).astype('float64')\n",
    "\n",
    "    for j in range(n):\n",
    "        temp = B[k][j]\n",
    "        B[k][j] = B[l][j]\n",
    "        B[l][j] = temp\n",
    "\n",
    "    return B\n",
    "\n",
    "def RowScale(A,k,scale):\n",
    "# =============================================================================\n",
    "#     A is a NumPy array.  RowScale will return duplicate array with the\n",
    "#     entries of row k multiplied by scale.\n",
    "# =============================================================================\n",
    "    m = A.shape[0]  # m is number of rows in A\n",
    "    n = A.shape[1]  # n is number of columns in A\n",
    "\n",
    "    B = np.copy(A).astype('float64')\n",
    "\n",
    "    for j in range(n):\n",
    "        B[k][j] *= scale\n",
    "\n",
    "    return B\n",
    "\n",
    "def RowAdd(A,k,l,scale):\n",
    "# =============================================================================\n",
    "#     A is a numpy array.  RowAdd will return duplicate array with row\n",
    "#     l modifed.  The new values will be the old values of row l added to\n",
    "#     the values of row k, multiplied by scale.\n",
    "# =============================================================================\n",
    "    m = A.shape[0]  # m is number of rows in A\n",
    "    n = A.shape[1]  # n is number of columns in A\n",
    "\n",
    "    B = np.copy(A).astype('float64')\n",
    "\n",
    "    for j in range(n):\n",
    "        B[l][j] += B[k][j]*scale\n",
    "\n",
    "    return B"
   ]
  },
  {
   "cell_type": "markdown",
   "metadata": {},
   "source": [
    "buat array NumPy dengan nilai-nilai ini. Kita akan memberi nama pada array A, sehingga kita bisa memanggilnya lagi nanti."
   ]
  },
  {
   "cell_type": "code",
   "execution_count": 2,
   "metadata": {},
   "outputs": [
    {
     "name": "stdout",
     "output_type": "stream",
     "text": [
      "[[ 8  9  1 19]\n",
      " [ 1  2  3  9]\n",
      " [ 2  1  1  5]]\n"
     ]
    }
   ],
   "source": [
    "import numpy as np\n",
    "A=np.array([[8,9,1,19],[1,2,3,9],[2,1,1,5]])\n",
    "print(A)"
   ]
  },
  {
   "cell_type": "code",
   "execution_count": 3,
   "metadata": {},
   "outputs": [
    {
     "name": "stdout",
     "output_type": "stream",
     "text": [
      "[[ 1.  2.  3.  9.]\n",
      " [ 8.  9.  1. 19.]\n",
      " [ 2.  1.  1.  5.]]\n"
     ]
    }
   ],
   "source": [
    "#pindahkan baris 0 ke baris 1\n",
    "A1 = RowSwap(A, 0, 1)\n",
    "print(A1)"
   ]
  },
  {
   "cell_type": "code",
   "execution_count": 4,
   "metadata": {},
   "outputs": [
    {
     "name": "stdout",
     "output_type": "stream",
     "text": [
      "[[  1.   2.   3.   9.]\n",
      " [  0.  -7. -23. -53.]\n",
      " [  2.   1.   1.   5.]]\n"
     ]
    }
   ],
   "source": [
    "#tambahkan -8 kali baris 0 ke baris 1\n",
    "A2 = RowAdd(A1, 0, 1, -8)\n",
    "print(A2)"
   ]
  },
  {
   "cell_type": "code",
   "execution_count": 5,
   "metadata": {},
   "outputs": [
    {
     "name": "stdout",
     "output_type": "stream",
     "text": [
      "[[  1.   2.   3.   9.]\n",
      " [  0.  -7. -23. -53.]\n",
      " [  0.  -3.  -5. -13.]]\n"
     ]
    }
   ],
   "source": [
    "#tambahkan -2 kali baris 0 ke baris 2\n",
    "A3 = RowAdd(A2, 0, 2, -2)\n",
    "print(A3)"
   ]
  },
  {
   "cell_type": "code",
   "execution_count": 6,
   "metadata": {},
   "outputs": [
    {
     "name": "stdout",
     "output_type": "stream",
     "text": [
      "[[  1.           2.           3.           9.        ]\n",
      " [ -0.           1.           3.28571429   7.57142857]\n",
      " [  0.          -3.          -5.         -13.        ]]\n"
     ]
    }
   ],
   "source": [
    "#kalikan baris 1 dengan -1/7\n",
    "A4 = RowScale(A3, 1, -1/7)\n",
    "print(A4)"
   ]
  },
  {
   "cell_type": "code",
   "execution_count": 7,
   "metadata": {},
   "outputs": [
    {
     "name": "stdout",
     "output_type": "stream",
     "text": [
      "[[ 1.          2.          3.          9.        ]\n",
      " [-0.          1.          3.28571429  7.57142857]\n",
      " [ 0.          0.          4.85714286  9.71428571]]\n"
     ]
    }
   ],
   "source": [
    "#tambahkan 3 kali baris 1 ke baris 2\n",
    "A5 = RowAdd(A4, 1, 2, 3)\n",
    "print(A5)"
   ]
  },
  {
   "cell_type": "code",
   "execution_count": 8,
   "metadata": {},
   "outputs": [
    {
     "name": "stdout",
     "output_type": "stream",
     "text": [
      "[[ 1.          2.          3.          9.        ]\n",
      " [-0.          1.          3.28571429  7.57142857]\n",
      " [ 0.          0.          1.          2.        ]]\n"
     ]
    }
   ],
   "source": [
    "#kalikan baris 2 dengan 1/4.85714286\n",
    "A6 = RowScale(A5, 2, 1/4.85714286)\n",
    "print(A6)"
   ]
  },
  {
   "cell_type": "markdown",
   "metadata": {},
   "source": [
    "Dari matriks terakhir tersebut sudah memenuhi ketiga kriteria bentuk eselon baris. Selanjutnya tinggal mengubahnya kembali menjadi sistem persamaan linear\n",
    "$$\n",
    "x_1+2x_2+3x_3=9\\\\\n",
    "x_2+3.28571429x_3=7.57142857\\\\\n",
    "x_3=2\\\\\n",
    "$$\n"
   ]
  },
  {
   "cell_type": "code",
   "execution_count": 9,
   "metadata": {},
   "outputs": [
    {
     "name": "stdout",
     "output_type": "stream",
     "text": [
      "x3 =  2\n",
      "x2 =  1\n",
      "x1 =  1\n"
     ]
    }
   ],
   "source": [
    "#selesaikan persamaanya\n",
    "x3 = 2\n",
    "print(\"x3 = \",x3)\n",
    "x2 = 7.57142857-(3.28571429*x3)\n",
    "print(\"x2 = \", round(x2))\n",
    "x1=9 - 2*x2 - 3*x3\n",
    "print(\"x1 = \",round(x1))"
   ]
  }
 ],
 "metadata": {
  "kernelspec": {
   "display_name": "Python 3 (ipykernel)",
   "language": "python",
   "name": "python3"
  },
  "language_info": {
   "codemirror_mode": {
    "name": "ipython",
    "version": 3
   },
   "file_extension": ".py",
   "mimetype": "text/x-python",
   "name": "python",
   "nbconvert_exporter": "python",
   "pygments_lexer": "ipython3",
   "version": "3.10.13"
  }
 },
 "nbformat": 4,
 "nbformat_minor": 2
}
